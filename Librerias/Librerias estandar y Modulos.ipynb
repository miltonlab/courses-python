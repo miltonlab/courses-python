{
 "cells": [
  {
   "cell_type": "markdown",
   "metadata": {},
   "source": [
    "### Importaciones y Módulos"
   ]
  },
  {
   "cell_type": "code",
   "execution_count": 2,
   "metadata": {
    "collapsed": true
   },
   "outputs": [],
   "source": [
    "import string"
   ]
  },
  {
   "cell_type": "code",
   "execution_count": 3,
   "metadata": {},
   "outputs": [
    {
     "data": {
      "text/plain": [
       "'abcdefghijklmnopqrstuvwxyzABCDEFGHIJKLMNOPQRSTUVWXYZ'"
      ]
     },
     "execution_count": 3,
     "metadata": {},
     "output_type": "execute_result"
    }
   ],
   "source": [
    "string.ascii_letters"
   ]
  },
  {
   "cell_type": "code",
   "execution_count": 4,
   "metadata": {},
   "outputs": [
    {
     "data": {
      "text/plain": [
       "'0123456789'"
      ]
     },
     "execution_count": 4,
     "metadata": {},
     "output_type": "execute_result"
    }
   ],
   "source": [
    "string.digits"
   ]
  },
  {
   "cell_type": "code",
   "execution_count": 6,
   "metadata": {},
   "outputs": [
    {
     "data": {
      "text/plain": [
       "'0123456789abcdefABCDEF'"
      ]
     },
     "execution_count": 6,
     "metadata": {},
     "output_type": "execute_result"
    }
   ],
   "source": [
    "string.hexdigits"
   ]
  },
  {
   "cell_type": "code",
   "execution_count": 32,
   "metadata": {},
   "outputs": [
    {
     "name": "stdout",
     "output_type": "stream",
     "text": [
      "\n",
      "20 Columnas:\n",
      "\n",
      "Roma es una ciudad\n",
      "italiana de 2 877\n",
      "215 habitantes,\n",
      "capital de la región\n",
      "del Lacio y de\n",
      "Italia. Es el\n",
      "municipio más\n",
      "poblado de Italia y\n",
      "es la cuarta ciudad\n",
      "más poblada de la\n",
      "Unión Europea. Por\n",
      "antonomasia se la\n",
      "conoce desde fines\n",
      "de la Antigüedad\n",
      "como la Urbe.\n",
      "También es llamada:\n",
      "La Ciudad Eterna\n",
      "\n",
      "60 Columnas:\n",
      "\n",
      "Roma es una ciudad italiana de 2 877 215 habitantes, capital\n",
      "de la región del Lacio y de Italia. Es el municipio más\n",
      "poblado de Italia y es la cuarta ciudad más poblada de la\n",
      "Unión Europea. Por antonomasia se la conoce desde fines de\n",
      "la Antigüedad como la Urbe.  También es llamada: La Ciudad\n",
      "Eterna\n",
      "\n",
      "80 Columnas:\n",
      "\n",
      "Roma es una ciudad italiana de 2 877 215 habitantes, capital de la región del\n",
      "Lacio y de Italia. Es el municipio más poblado de Italia y es la cuarta ciudad\n",
      "más poblada de la Unión Europea. Por antonomasia se la conoce desde fines de la\n",
      "Antigüedad como la Urbe.  También es llamada: La Ciudad Eterna\n"
     ]
    }
   ],
   "source": [
    "import textwrap\n",
    "un_texto = '''\n",
    "Roma es una ciudad italiana de 2 877 215 habitantes, capital de la región del Lacio y de Italia.\n",
    "Es el municipio más poblado de Italia y es la cuarta ciudad más poblada de la Unión Europea.\n",
    "Por antonomasia se la conoce desde fines de la Antigüedad como la Urbe. \n",
    "También es llamada: La Ciudad Eterna\n",
    "'''\n",
    "dedented_text = textwrap.dedent(un_texto).strip()\n",
    "for ancho in [ 20, 60, 80 ]:\n",
    "        print()\n",
    "        print('{0:d} Columnas:\\n'.format(ancho))\n",
    "        print(textwrap.fill(dedented_text, width=ancho))"
   ]
  },
  {
   "cell_type": "markdown",
   "metadata": {},
   "source": [
    "### Fracciones y Numeros"
   ]
  },
  {
   "cell_type": "code",
   "execution_count": 16,
   "metadata": {},
   "outputs": [
    {
     "data": {
      "text/plain": [
       "Fraction(31, 6)"
      ]
     },
     "execution_count": 16,
     "metadata": {},
     "output_type": "execute_result"
    }
   ],
   "source": [
    "import fractions\n",
    "#2/3 + 9/2\n",
    "fractions.Fraction(2,3) + fractions.Fraction(9,2)"
   ]
  },
  {
   "cell_type": "code",
   "execution_count": 14,
   "metadata": {},
   "outputs": [
    {
     "data": {
      "text/plain": [
       "True"
      ]
     },
     "execution_count": 14,
     "metadata": {},
     "output_type": "execute_result"
    }
   ],
   "source": [
    "import numbers\n",
    "isinstance(4, numbers.Number)"
   ]
  },
  {
   "cell_type": "markdown",
   "metadata": {},
   "source": [
    "### Fechas "
   ]
  },
  {
   "cell_type": "code",
   "execution_count": 25,
   "metadata": {
    "collapsed": true
   },
   "outputs": [],
   "source": [
    "from  datetime import date"
   ]
  },
  {
   "cell_type": "code",
   "execution_count": 26,
   "metadata": {
    "collapsed": true
   },
   "outputs": [],
   "source": [
    "una_fecha = date(1945, 2,13)"
   ]
  },
  {
   "cell_type": "code",
   "execution_count": 22,
   "metadata": {
    "collapsed": true
   },
   "outputs": [],
   "source": [
    "hoy = date.today()"
   ]
  },
  {
   "cell_type": "code",
   "execution_count": 27,
   "metadata": {},
   "outputs": [
    {
     "name": "stdout",
     "output_type": "stream",
     "text": [
      "2018-03-19 10:48:00.886512\n"
     ]
    }
   ],
   "source": [
    "print(hoy)"
   ]
  },
  {
   "cell_type": "code",
   "execution_count": 28,
   "metadata": {},
   "outputs": [
    {
     "data": {
      "text/plain": [
       "(2018, 3, 19)"
      ]
     },
     "execution_count": 28,
     "metadata": {},
     "output_type": "execute_result"
    }
   ],
   "source": [
    "hoy.year, hoy.month, hoy.day"
   ]
  },
  {
   "cell_type": "code",
   "execution_count": null,
   "metadata": {
    "collapsed": true
   },
   "outputs": [],
   "source": [
    "from datetime import datetime"
   ]
  },
  {
   "cell_type": "markdown",
   "metadata": {},
   "source": [
    "### Fromateo de fechas"
   ]
  },
  {
   "cell_type": "code",
   "execution_count": 63,
   "metadata": {},
   "outputs": [
    {
     "data": {
      "text/plain": [
       "datetime.datetime(2013, 10, 15, 0, 0)"
      ]
     },
     "execution_count": 63,
     "metadata": {},
     "output_type": "execute_result"
    }
   ],
   "source": [
    "# String a fecha\n",
    "datetime.strptime(\"10/15/2013\", \"%m/%d/%Y\")"
   ]
  },
  {
   "cell_type": "code",
   "execution_count": 65,
   "metadata": {},
   "outputs": [
    {
     "data": {
      "text/plain": [
       "'03/2018'"
      ]
     },
     "execution_count": 65,
     "metadata": {},
     "output_type": "execute_result"
    }
   ],
   "source": [
    "# Fecha a string\n",
    "datetime.strftime(hoy, \"%m/%Y\")"
   ]
  },
  {
   "cell_type": "markdown",
   "metadata": {},
   "source": [
    "### Archivos"
   ]
  },
  {
   "cell_type": "code",
   "execution_count": 11,
   "metadata": {},
   "outputs": [
    {
     "name": "stdout",
     "output_type": "stream",
     "text": [
      "\"0132151006\",\"Internet & Worl Wide Web How to Program\",5,2012\n",
      "\n",
      "\"0133807800\",\"Java How to Program\",10,2015\n",
      "\n",
      "\"0132575655\",\"C How to Program Latr Objects Version\",10,2015\n",
      "\n",
      "\"013299044X\",\"C How to Program\",7,2013\n",
      "\n",
      "\"0132990601\",\"Simply Visual Basic 2010\",4,2013\n",
      "\n",
      "\"0133406954\",\"Visual Basic 2012 How to Proram\",6,2014\n",
      "\n",
      "\"0133379337\",\"Visual C# 2012 How to Program\",5,2014\n",
      "\n",
      "\"0136151574\",\"Visal C++ 2008 How to Program\",2,2008\n",
      "\n",
      "\"0133378713\",\"C++ How to Program\",9,2014\n",
      "\n",
      "\"0133570924\",\"Android How to Program\",2,2015\n",
      "\n",
      "\"0133570927\",\"Android for Programmers: An App-Driven Approach Volume 1\",1,2014\n",
      "\n",
      "\"0132121361\",\"Android for Programmers: An App-Driven Approach\",2,2012\n",
      "\n"
     ]
    }
   ],
   "source": [
    "f = open(\"libros.csv\", mode='r')\n",
    "contenido = f.readlines()\n",
    "for linea in contenido:\n",
    "    print(linea)\n",
    "f.close()"
   ]
  },
  {
   "cell_type": "code",
   "execution_count": 16,
   "metadata": {},
   "outputs": [],
   "source": [
    "import figuras"
   ]
  },
  {
   "cell_type": "code",
   "execution_count": 17,
   "metadata": {
    "collapsed": true
   },
   "outputs": [],
   "source": [
    "c = figuras.Circulo(12)"
   ]
  },
  {
   "cell_type": "code",
   "execution_count": 18,
   "metadata": {},
   "outputs": [
    {
     "data": {
      "text/plain": [
       "<figuras.Circulo at 0x7f6e5d7f3390>"
      ]
     },
     "execution_count": 18,
     "metadata": {},
     "output_type": "execute_result"
    }
   ],
   "source": [
    "c"
   ]
  },
  {
   "cell_type": "code",
   "execution_count": 13,
   "metadata": {
    "collapsed": true
   },
   "outputs": [],
   "source": [
    "from figuras import figura_aleatoria"
   ]
  },
  {
   "cell_type": "code",
   "execution_count": 14,
   "metadata": {},
   "outputs": [
    {
     "data": {
      "text/plain": [
       "<figuras.Triangulo at 0x7f6e5d7f3550>"
      ]
     },
     "execution_count": 14,
     "metadata": {},
     "output_type": "execute_result"
    }
   ],
   "source": [
    "f = figura_aleatoria()\n",
    "f"
   ]
  }
 ],
 "metadata": {
  "kernelspec": {
   "display_name": "Python 3",
   "language": "python",
   "name": "python3"
  },
  "language_info": {
   "codemirror_mode": {
    "name": "ipython",
    "version": 3
   },
   "file_extension": ".py",
   "mimetype": "text/x-python",
   "name": "python",
   "nbconvert_exporter": "python",
   "pygments_lexer": "ipython3",
   "version": "3.5.2"
  }
 },
 "nbformat": 4,
 "nbformat_minor": 2
}
