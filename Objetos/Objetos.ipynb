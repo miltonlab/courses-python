{
 "cells": [
  {
   "cell_type": "markdown",
   "metadata": {},
   "source": [
    "## Programación Orientada a Objetos"
   ]
  },
  {
   "cell_type": "code",
   "execution_count": 19,
   "metadata": {
    "collapsed": true
   },
   "outputs": [],
   "source": [
    "class MiClase:\n",
    "    \"\"\"Simple clase de ejemplo\"\"\"\n",
    "    i = 12345 # Variable de clase\n",
    "    def f(self):\n",
    "        return 'hola mundo'"
   ]
  },
  {
   "cell_type": "code",
   "execution_count": 15,
   "metadata": {
    "collapsed": true
   },
   "outputs": [],
   "source": [
    "class Auto:\n",
    "    def __init__(self):\n",
    "        self.marca = ''\n",
    "        self.modelo = ''\n",
    "        self.color = ''\n",
    "        self.numero_de_puertas = 0\n",
    "        self.kilometros = 0\n",
    "        self.velocidad = 0\n",
    "        self.arrancado = False\n",
    "        \n",
    "    def arrancar(self):\n",
    "        if not self.arrancado:\n",
    "            print('arrancando ...')\n",
    "            self.arrancado = True\n",
    "  \n",
    "    def parar(self):\n",
    "        self.arrancado = False\n",
    "  \n",
    "    def acelerar(self):\n",
    "        if self.arrancado:\n",
    "            self.velocidad = self.velocidad + 1\n",
    "\n",
    "    def frenar(self):\n",
    "        if self.velocidad > 0:\n",
    "            self.velocidad = self.velocidad - 1\n",
    "\n",
    "    def pitar(self):\n",
    "        print('Pippppppp')\n",
    "\n",
    "    def consultar_velocimetro(self):\n",
    "        return self.velocidad\n",
    "\n",
    "    def consultar_kilometros(self):\n",
    "        return self.kilometros"
   ]
  },
  {
   "cell_type": "code",
   "execution_count": 16,
   "metadata": {
    "collapsed": true
   },
   "outputs": [],
   "source": [
    "a = Auto()"
   ]
  },
  {
   "cell_type": "code",
   "execution_count": 18,
   "metadata": {},
   "outputs": [
    {
     "data": {
      "text/plain": [
       "(3.0, -4.5)"
      ]
     },
     "execution_count": 18,
     "metadata": {},
     "output_type": "execute_result"
    }
   ],
   "source": [
    "import math\n",
    "class Complejo:\n",
    "    \n",
    "    # Constructor, método que se ejecuta al instancias la clase\n",
    "    def __init__(self, partereal, parteimg):\n",
    "        self.real = partereal\n",
    "        self.img = parteimg\n",
    "\n",
    "    def absoluto(self):\n",
    "        return math.sqrt((self.real * self.real) + (self.img * self.img))\n",
    "    \n",
    "    # Sobrecarga de operadores\n",
    "    def __add__(self, otro):\n",
    "        return Complejo(self.real + otro.real, self.img + otro.img)\n",
    "    \n",
    "    # Sobrecarga de métodos\n",
    "    def __str__(self):\n",
    "        return \"{0:.1f} + {1:.1f}i\".format(self.real, self.img)\n",
    "        \n",
    "x = Complejo(3.0, -4.5)\n",
    "x.real, x.img"
   ]
  },
  {
   "cell_type": "code",
   "execution_count": 10,
   "metadata": {},
   "outputs": [
    {
     "name": "stdout",
     "output_type": "stream",
     "text": [
      "3.00 + -4.50i\n"
     ]
    }
   ],
   "source": [
    "print(x)"
   ]
  },
  {
   "cell_type": "code",
   "execution_count": 13,
   "metadata": {},
   "outputs": [
    {
     "name": "stdout",
     "output_type": "stream",
     "text": [
      "6.0 + -3.5i\n"
     ]
    }
   ],
   "source": [
    "y = Complejo(3, 1)\n",
    "print(x + y)"
   ]
  }
 ],
 "metadata": {
  "kernelspec": {
   "display_name": "Python 3",
   "language": "python",
   "name": "python3"
  },
  "language_info": {
   "codemirror_mode": {
    "name": "ipython",
    "version": 3
   },
   "file_extension": ".py",
   "mimetype": "text/x-python",
   "name": "python",
   "nbconvert_exporter": "python",
   "pygments_lexer": "ipython3",
   "version": "3.5.2"
  }
 },
 "nbformat": 4,
 "nbformat_minor": 2
}
