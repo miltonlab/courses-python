{
 "cells": [
  {
   "cell_type": "code",
   "execution_count": 23,
   "metadata": {
    "collapsed": true
   },
   "outputs": [],
   "source": [
    "class MiClase:\n",
    "    \"\"\" Esta es nuestra primera clase Python \"\"\"\n",
    "    i = 1234 # Atributo de la clase\n",
    "    def __init__(self):\n",
    "        self.dato = 0\n",
    "        \n",
    "    def accion(self):\n",
    "        \"\"\" El metodo acción \"\"\"\n",
    "        print(\"Ejecutando accion\")    "
   ]
  },
  {
   "cell_type": "markdown",
   "metadata": {},
   "source": [
    "####  Crear un objeto es crear una variable de una clase específica"
   ]
  },
  {
   "cell_type": "code",
   "execution_count": 25,
   "metadata": {
    "collapsed": true
   },
   "outputs": [],
   "source": [
    "# objeto = Clase()\n",
    "mi_objeto = MiClase()\n",
    "# Acceso a los miembros de un objeto\n",
    "# objeto.atributo y objeto.metodo(...)"
   ]
  },
  {
   "cell_type": "code",
   "execution_count": 13,
   "metadata": {},
   "outputs": [
    {
     "name": "stdout",
     "output_type": "stream",
     "text": [
      "Ejecutando accion\n"
     ]
    }
   ],
   "source": [
    "mi_objeto.accion()"
   ]
  },
  {
   "cell_type": "code",
   "execution_count": 33,
   "metadata": {
    "collapsed": true
   },
   "outputs": [],
   "source": [
    "objeto2 = MiClase()"
   ]
  },
  {
   "cell_type": "code",
   "execution_count": 16,
   "metadata": {},
   "outputs": [
    {
     "name": "stdout",
     "output_type": "stream",
     "text": [
      "Ejecutando accion\n"
     ]
    }
   ],
   "source": [
    "objeto2.accion()"
   ]
  },
  {
   "cell_type": "code",
   "execution_count": 28,
   "metadata": {},
   "outputs": [],
   "source": [
    "mi_objeto.dato = 12"
   ]
  },
  {
   "cell_type": "code",
   "execution_count": 29,
   "metadata": {},
   "outputs": [],
   "source": [
    "mi_objeto.i = 789"
   ]
  },
  {
   "cell_type": "code",
   "execution_count": 30,
   "metadata": {},
   "outputs": [
    {
     "data": {
      "text/plain": [
       "12"
      ]
     },
     "execution_count": 30,
     "metadata": {},
     "output_type": "execute_result"
    }
   ],
   "source": [
    "mi_objeto.dato"
   ]
  },
  {
   "cell_type": "code",
   "execution_count": 31,
   "metadata": {},
   "outputs": [
    {
     "data": {
      "text/plain": [
       "789"
      ]
     },
     "execution_count": 31,
     "metadata": {},
     "output_type": "execute_result"
    }
   ],
   "source": [
    "mi_objeto.i"
   ]
  },
  {
   "cell_type": "code",
   "execution_count": 34,
   "metadata": {},
   "outputs": [
    {
     "data": {
      "text/plain": [
       "0"
      ]
     },
     "execution_count": 34,
     "metadata": {},
     "output_type": "execute_result"
    }
   ],
   "source": [
    "objeto2.dato"
   ]
  },
  {
   "cell_type": "code",
   "execution_count": 35,
   "metadata": {},
   "outputs": [
    {
     "data": {
      "text/plain": [
       "1234"
      ]
     },
     "execution_count": 35,
     "metadata": {},
     "output_type": "execute_result"
    }
   ],
   "source": [
    "objeto2.i"
   ]
  },
  {
   "cell_type": "code",
   "execution_count": 36,
   "metadata": {},
   "outputs": [],
   "source": [
    "objeto2.dato = 98"
   ]
  },
  {
   "cell_type": "code",
   "execution_count": 38,
   "metadata": {},
   "outputs": [
    {
     "data": {
      "text/plain": [
       "12"
      ]
     },
     "execution_count": 38,
     "metadata": {},
     "output_type": "execute_result"
    }
   ],
   "source": [
    "\n",
    "mi_objeto.dato"
   ]
  },
  {
   "cell_type": "markdown",
   "metadata": {},
   "source": [
    "### Instrumentando nuestra clase \"Complejo\""
   ]
  },
  {
   "cell_type": "code",
   "execution_count": 53,
   "metadata": {
    "collapsed": true
   },
   "outputs": [],
   "source": [
    "import math\n",
    "class Complejo:\n",
    "    def __init__(self, pr, pi):\n",
    "        # Parte real del numero complejo\n",
    "        self.real = pr\n",
    "        # Parte imaginaria del numero complejo\n",
    "        self.img = pi\n",
    "    \n",
    "    def __add__(self, otro):\n",
    "        \"\"\"\n",
    "        Es igual a otro numero complejo \n",
    "        cuya parte real es igual a la suma de las partes reales de los operandos\n",
    "        cuya parte imaginaria es igual a la suma de las partes imaginarias de los operando\n",
    "        Ej.:\n",
    "        (4 + 5i) + (2 + 1i) = (6 + 6i)\n",
    "        \"\"\"\n",
    "        total_real = self.real + otro.real\n",
    "        total_img = self.img + otro.img\n",
    "        return Complejo(total_real, total_img)\n",
    "        \n",
    "    def abs(self):\n",
    "        # raiz cuadrada de la suma de los cuadrados de sus componentes\n",
    "        #a = math.hypot(self.real, self.img)\n",
    "        a = math.sqrt((self.real * self.real) + (self.img * self.img))\n",
    "        return a\n",
    "    \n",
    "    def __str__(self):\n",
    "        # real + img i. Ej. 4 + 8i\n",
    "        return \"{0:.1f} + {1:.1f}i\".format(self.real, self.img)"
   ]
  },
  {
   "cell_type": "code",
   "execution_count": 54,
   "metadata": {},
   "outputs": [
    {
     "name": "stdout",
     "output_type": "stream",
     "text": [
      "Valor absoluto de n1  7.615773105863909\n",
      "Sumatoria:  7.0 + 13.0i\n",
      "n1 =  3.0 + 7.0i\n",
      "n2 =  4.0 + 6.0i\n"
     ]
    }
   ],
   "source": [
    "n1 = Complejo(3, 7)\n",
    "print(\"Valor absoluto de n1 \",n1.abs())\n",
    "n2 = Complejo(4, 6)\n",
    "#n1.__add__(n2)\n",
    "total = n1 + n2\n",
    "print(\"Sumatoria: \",total)\n",
    "print(\"n1 = \", n1)\n",
    "print(\"n2 = \", n2)"
   ]
  },
  {
   "cell_type": "code",
   "execution_count": null,
   "metadata": {
    "collapsed": true
   },
   "outputs": [],
   "source": []
  }
 ],
 "metadata": {
  "kernelspec": {
   "display_name": "Python 3",
   "language": "python",
   "name": "python3"
  },
  "language_info": {
   "codemirror_mode": {
    "name": "ipython",
    "version": 3
   },
   "file_extension": ".py",
   "mimetype": "text/x-python",
   "name": "python",
   "nbconvert_exporter": "python",
   "pygments_lexer": "ipython3",
   "version": "3.5.2"
  }
 },
 "nbformat": 4,
 "nbformat_minor": 2
}
