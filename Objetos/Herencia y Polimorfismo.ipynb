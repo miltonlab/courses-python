{
 "cells": [
  {
   "cell_type": "code",
   "execution_count": 1,
   "metadata": {
    "collapsed": true
   },
   "outputs": [],
   "source": [
    "class Figura(object):\n",
    "    \"\"\" Una figura \"\"\"\n",
    "    def __init__(self, color=\"\"):\n",
    "        self.color = color\n",
    "        \n",
    "    def area(self):\n",
    "        \" Este método debe ser redefinido. \"\n",
    "        pass"
   ]
  },
  {
   "cell_type": "code",
   "execution_count": 5,
   "metadata": {
    "collapsed": true
   },
   "outputs": [],
   "source": [
    "import math\n",
    "class Circulo(Figura):\n",
    "    \"\"\" Un círculo  \"\"\"\n",
    "    def __init__(self, radio=0):\n",
    "        \" Constructor de círculo. \"\n",
    "        self.radio = radio\n",
    " \n",
    "    def area(self):\n",
    "        \" Devuelve el área del círculo. \"\n",
    "        return math.pi * self.radio * self.radio"
   ]
  },
  {
   "cell_type": "code",
   "execution_count": 3,
   "metadata": {
    "collapsed": true
   },
   "outputs": [],
   "source": [
    "class Triangulo(Figura):\n",
    "    \"\"\" Un triángulo \"\"\"\n",
    "    def __init__(self, base=0, altura=0):\n",
    "        \" Constructor de triángulo. \"\n",
    "        self.base = base\n",
    "        self.altura = altura\n",
    " \n",
    "    def area(self):\n",
    "        \" Devuelve el área del triángulo. \"\n",
    "        return self.base * self.altura / 2."
   ]
  },
  {
   "cell_type": "code",
   "execution_count": 6,
   "metadata": {},
   "outputs": [
    {
     "name": "stdout",
     "output_type": "stream",
     "text": [
      "50.26548245743669\n",
      "7.5\n"
     ]
    }
   ],
   "source": [
    "c = Circulo(4)\n",
    "print(c.area())\n",
    "t = Triangulo(3, 5)\n",
    "print(t.area())"
   ]
  }
 ],
 "metadata": {
  "kernelspec": {
   "display_name": "Python 3",
   "language": "python",
   "name": "python3"
  },
  "language_info": {
   "codemirror_mode": {
    "name": "ipython",
    "version": 3
   },
   "file_extension": ".py",
   "mimetype": "text/x-python",
   "name": "python",
   "nbconvert_exporter": "python",
   "pygments_lexer": "ipython3",
   "version": "3.5.2"
  }
 },
 "nbformat": 4,
 "nbformat_minor": 2
}
