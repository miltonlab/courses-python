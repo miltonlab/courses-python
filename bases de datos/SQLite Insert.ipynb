{
 "cells": [
  {
   "cell_type": "code",
   "execution_count": 19,
   "metadata": {},
   "outputs": [
    {
     "name": "stdout",
     "output_type": "stream",
     "text": [
      "La conexion se ha establecido con éxito\n"
     ]
    }
   ],
   "source": [
    "import sqlite3\n",
    "conex = sqlite3.connect(\"/home/miltonlab/miscursos/courses-python/bases de datos/Contactos.db\")\n",
    "print(\"La conexion se ha establecido con éxito\")"
   ]
  },
  {
   "cell_type": "code",
   "execution_count": 20,
   "metadata": {
    "collapsed": true
   },
   "outputs": [],
   "source": [
    "cursor = conex.cursor()"
   ]
  },
  {
   "cell_type": "markdown",
   "metadata": {},
   "source": [
    "### Ingresar el registro de un ciudadano desde la linea de comandos a la Base de Datos SQLite"
   ]
  },
  {
   "cell_type": "code",
   "execution_count": 3,
   "metadata": {
    "scrolled": true
   },
   "outputs": [
    {
     "name": "stdout",
     "output_type": "stream",
     "text": [
      "Ingrese su número de cedula: 1104567898\n",
      "Ingrese sus nombres: Angel Martin Villavicencio\n",
      "Ingrese sus apellidos: Villavicencio Martinez\n",
      "Ingrese su correo electrónico: angelvm@gmail.com\n"
     ]
    }
   ],
   "source": [
    "cedula = input(\"Ingrese su número de cedula: \")\n",
    "nombres = input(\"Ingrese sus nombres: \")\n",
    "apellidos = input(\"Ingrese sus apellidos: \")\n",
    "correo = input(\"Ingrese su correo electrónico: \")"
   ]
  },
  {
   "cell_type": "code",
   "execution_count": 21,
   "metadata": {},
   "outputs": [
    {
     "data": {
      "text/plain": [
       "<sqlite3.Cursor at 0x7fe37818ef10>"
      ]
     },
     "execution_count": 21,
     "metadata": {},
     "output_type": "execute_result"
    }
   ],
   "source": [
    "cursor.execute(\"\"\"INSERT INTO Ciudadanos VALUES ('{0}','{1}', '{2}','{3}')\n",
    "    \"\"\".format(cedula, nombres, apellidos, correo)\n",
    ")"
   ]
  },
  {
   "cell_type": "code",
   "execution_count": 22,
   "metadata": {},
   "outputs": [],
   "source": [
    "conex.commit()"
   ]
  },
  {
   "cell_type": "code",
   "execution_count": 14,
   "metadata": {},
   "outputs": [],
   "source": [
    "\n",
    "cursor.close()\n",
    "conex.close()"
   ]
  },
  {
   "cell_type": "code",
   "execution_count": 16,
   "metadata": {},
   "outputs": [
    {
     "data": {
      "text/plain": [
       "1"
      ]
     },
     "execution_count": 16,
     "metadata": {},
     "output_type": "execute_result"
    }
   ],
   "source": [
    "cursor.rowcount"
   ]
  }
 ],
 "metadata": {
  "kernelspec": {
   "display_name": "Python 3",
   "language": "python",
   "name": "python3"
  },
  "language_info": {
   "codemirror_mode": {
    "name": "ipython",
    "version": 3
   },
   "file_extension": ".py",
   "mimetype": "text/x-python",
   "name": "python",
   "nbconvert_exporter": "python",
   "pygments_lexer": "ipython3",
   "version": "3.5.2"
  }
 },
 "nbformat": 4,
 "nbformat_minor": 2
}
