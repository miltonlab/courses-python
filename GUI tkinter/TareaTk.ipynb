{
 "cells": [
  {
   "cell_type": "code",
   "execution_count": 5,
   "metadata": {},
   "outputs": [
    {
     "name": "stdout",
     "output_type": "stream",
     "text": [
      "66.0\n",
      "60.0\n",
      "60.0\n",
      "65.0\n"
     ]
    }
   ],
   "source": [
    "import tkinter\n",
    "from tkinter import Tk, Button, Toplevel, messagebox\n",
    "\n",
    "class CalcArea:\n",
    "    def __init__(self):\n",
    "        self.raiz = Tk()\n",
    "        self.raiz.title = \"Ventana de Aplicación\"\n",
    "        self.raiz.geometry(\"400x330+100+150\")\n",
    "        self.label_base = tkinter.Label(self.raiz, text=\"BASE\")\n",
    "        self.label_base.pack()\n",
    "        self.text_base = tkinter.Entry(self.raiz)\n",
    "        self.text_base.pack()\n",
    "        self.label_altura = tkinter.Label(self.raiz, text=\"ALTURA\")\n",
    "        self.label_altura.pack()\n",
    "        self.text_altura = tkinter.Entry(self.raiz)\n",
    "        self.text_altura.pack()\n",
    "        # Manipula los eventos de los componentes. Ej. Button\n",
    "        self.button_calcular = Button(self.raiz, \n",
    "                                      text=\"CALCULAR AREA\", \n",
    "                                      command=self.calcular)\n",
    "        self.button_calcular.pack()\n",
    "        self.label_area = tkinter.Label(self.raiz, text=\"AREA = \")\n",
    "        self.label_area.pack()\n",
    "        #self.result = tkinter.Label(self.raiz, area)\n",
    "        #self.result.pack()\n",
    "        #self.raiz.mainloop()\n",
    "\n",
    "    def calcular(self):\n",
    "        b = float(self.text_base.get())\n",
    "        h = float(self.text_altura.get())\n",
    "        area = b * h / 2\n",
    "        str_area = str(area)\n",
    "        print(str_area)\n",
    "        self.label_area.config(text= str_area)\n",
    "        \n",
    "        \n",
    "if __name__ == '__main__':\n",
    "    ventana = CalcArea()\n",
    "    ventana.raiz.mainloop()"
   ]
  }
 ],
 "metadata": {
  "kernelspec": {
   "display_name": "Python 3",
   "language": "python",
   "name": "python3"
  },
  "language_info": {
   "codemirror_mode": {
    "name": "ipython",
    "version": 3
   },
   "file_extension": ".py",
   "mimetype": "text/x-python",
   "name": "python",
   "nbconvert_exporter": "python",
   "pygments_lexer": "ipython3",
   "version": "3.5.2"
  }
 },
 "nbformat": 4,
 "nbformat_minor": 2
}
