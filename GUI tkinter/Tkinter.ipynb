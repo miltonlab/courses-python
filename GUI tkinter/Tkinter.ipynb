{
 "cells": [
  {
   "cell_type": "markdown",
   "metadata": {},
   "source": [
    "### Principios de los componentes Tk"
   ]
  },
  {
   "cell_type": "code",
   "execution_count": 13,
   "metadata": {},
   "outputs": [],
   "source": [
    "import tkinter as tk\n",
    "raiz = tk.Tk()\n",
    "etiqueta = tk.Label(raiz, text=\"Hola Tk\")\n",
    "etiqueta.pack()\n",
    "raiz.geometry('300x200+500+50')\n",
    "raiz.mainloop()"
   ]
  },
  {
   "cell_type": "markdown",
   "metadata": {},
   "source": [
    "### Una aplicación Tk orientada a objetos"
   ]
  },
  {
   "cell_type": "code",
   "execution_count": 5,
   "metadata": {},
   "outputs": [],
   "source": [
    "from tkinter import Tk, Button, Toplevel, messagebox\n",
    "\n",
    "class Aplicacion():\n",
    "    def __init__(self):\n",
    "        self.raiz = Tk()\n",
    "        self.raiz.title = \"Ventana de Aplicación\"\n",
    "        self.raiz.geometry('300x200+500+50')\n",
    "        self.boton = Button(self.raiz, text=\"Mensaje\", command=self.abrir)\n",
    "        self.boton.pack()\n",
    "        self.raiz.mainloop()\n",
    "        \n",
    "    def abrir(self):\n",
    "        messagebox.showinfo(\"Bienvenidos\", \"Les saluda la libreria TK\" )\n",
    "        \n",
    "app = Aplicacion()"
   ]
  }
 ],
 "metadata": {
  "kernelspec": {
   "display_name": "Python 3",
   "language": "python",
   "name": "python3"
  },
  "language_info": {
   "codemirror_mode": {
    "name": "ipython",
    "version": 3
   },
   "file_extension": ".py",
   "mimetype": "text/x-python",
   "name": "python",
   "nbconvert_exporter": "python",
   "pygments_lexer": "ipython3",
   "version": "3.5.2"
  }
 },
 "nbformat": 4,
 "nbformat_minor": 2
}
