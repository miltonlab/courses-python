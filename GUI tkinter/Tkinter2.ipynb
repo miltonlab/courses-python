{
 "cells": [
  {
   "cell_type": "code",
   "execution_count": 20,
   "metadata": {
    "collapsed": true
   },
   "outputs": [],
   "source": [
    "import tkinter\n",
    "\n",
    "def calcular():\n",
    "    b = float(txt_base.get()) \n",
    "    a = float(txt_altura.get())\n",
    "    area = b * a / 2\n",
    "    etq_area.set(str(area))\n",
    "\n",
    "def pruebas():\n",
    "    print(\"ejecutando ...\")\n",
    "    \n",
    "    \n",
    "ejecutor = tkinter.Tk()\n",
    "ejecutor.title = \"Ventana de la Aplicacion\"\n",
    "etiqueta = tkinter.Label(ejecutor, text=\"Hola Mundo TK\")\n",
    "etiqueta.pack()\n",
    "\n",
    "etq_base = tkinter.Label(ejecutor, text=\"BASE: \")\n",
    "etq_base.pack()\n",
    "txt_base = tkinter.Entry(ejecutor)\n",
    "txt_base.pack()\n",
    "\n",
    "etq_altura = tkinter.Label(ejecutor, text=\"ALTURA: \")\n",
    "etq_altura.pack()\n",
    "txt_altura = tkinter.Entry(ejecutor)\n",
    "txt_altura.pack()\n",
    "\n",
    "etq_area = tkinter.Label(ejecutor, text=\"AREA: \")\n",
    "etq_area.pack()\n",
    "\n",
    "btn_area = tkinter.Button(ejecutor, text=\"CALCULAR\", command=pruebas)\n",
    "btn_area.pack()\n",
    "\n",
    "ejecutor.geometry('400x300+100+100')\n",
    "ejecutor.mainloop()\n"
   ]
  }
 ],
 "metadata": {
  "kernelspec": {
   "display_name": "Python 3",
   "language": "python",
   "name": "python3"
  },
  "language_info": {
   "codemirror_mode": {
    "name": "ipython",
    "version": 3
   },
   "file_extension": ".py",
   "mimetype": "text/x-python",
   "name": "python",
   "nbconvert_exporter": "python",
   "pygments_lexer": "ipython3",
   "version": "3.5.2"
  }
 },
 "nbformat": 4,
 "nbformat_minor": 2
}
