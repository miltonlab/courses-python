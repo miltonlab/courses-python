{
 "cells": [
  {
   "cell_type": "code",
   "execution_count": 1,
   "metadata": {
    "collapsed": true
   },
   "outputs": [],
   "source": [
    "from PyQt5.QtCore import *\n",
    "from PyQt5.QtWidgets import *\n",
    "import sys"
   ]
  },
  {
   "cell_type": "code",
   "execution_count": 2,
   "metadata": {},
   "outputs": [
    {
     "data": {
      "text/plain": [
       "0"
      ]
     },
     "execution_count": 2,
     "metadata": {},
     "output_type": "execute_result"
    }
   ],
   "source": [
    "class Ventana(QMainWindow):\n",
    "    def __init__(self):\n",
    "        QMainWindow.__init__(self)\n",
    "        self.setMinimumSize(QSize(640, 480))    \n",
    "        self.setWindowTitle(\"Aplicación Qt\")\n",
    "        etq = QLabel(\"Hola Mundo PyQt\", self)\n",
    "        btn = QPushButton(\"Accion\",self)\n",
    "        #btn.resize(70, 20)\n",
    "        btn.move(50,50)\n",
    "        btn.clicked.connect(self.accion)\n",
    "        \n",
    "    def accion(self):\n",
    "        QMessageBox.about(self, \"Mensaje\", \"Boton Presionado\")\n",
    "        \n",
    "        \n",
    "app = QApplication(sys.argv)\n",
    "win = Ventana()\n",
    "win.show()\n",
    "app.exec_()\n"
   ]
  }
 ],
 "metadata": {
  "kernelspec": {
   "display_name": "Python 3",
   "language": "python",
   "name": "python3"
  },
  "language_info": {
   "codemirror_mode": {
    "name": "ipython",
    "version": 3
   },
   "file_extension": ".py",
   "mimetype": "text/x-python",
   "name": "python",
   "nbconvert_exporter": "python",
   "pygments_lexer": "ipython3",
   "version": "3.5.2"
  }
 },
 "nbformat": 4,
 "nbformat_minor": 2
}
