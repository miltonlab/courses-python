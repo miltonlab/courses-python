{
 "cells": [
  {
   "cell_type": "code",
   "execution_count": 1,
   "metadata": {
    "collapsed": true
   },
   "outputs": [],
   "source": [
    "import sys\n",
    "#from PyQt5.QtCore import *\n",
    "from PyQt5.QtWidgets import *"
   ]
  },
  {
   "cell_type": "markdown",
   "metadata": {},
   "source": [
    "### El modulo __main__ será el módulo principal o en donde se inició la ejecución del programa."
   ]
  },
  {
   "cell_type": "code",
   "execution_count": null,
   "metadata": {},
   "outputs": [],
   "source": [
    "class VentanaQt(QMainWindow):\n",
    "    def __init__(self):\n",
    "        QMainWindow.__init__(self)\n",
    "        self.setWindowTitle(\"Una Ventana Qt\")\n",
    "        #self.MinimumSize(QSize(43,657))\n",
    "        self.etq = QLabel(\"Hola Mundo Qt\", self) \n",
    "        # Fijar el texto de una etiqueta\n",
    "        # self.etq.setText(texto)\n",
    "        self.etq.move(50, 30)\n",
    "        self.btn = QPushButton(\"Accion\", self)\n",
    "        self.btn.move(150, 30)\n",
    "        self.btn.clicked.connect(self.accion)\n",
    "        self.resize(400, 100)\n",
    "        self.move(70, 30)\n",
    "        self.txt = QLineEdit(self)\n",
    "        self.txt.move(150, 70)\n",
    "        self.txt.resize(100, 20)\n",
    "        # Obtener el texto de un LineEdit\n",
    "        # self.txt.text()\n",
    "        # Fijar el texto en un LineEdit\n",
    "        # self.txt.setText(texto)\n",
    "\n",
    "    def accion(self):\n",
    "        QMessageBox.information(self, \n",
    "                                \"Cuadro de Mensaje\", \n",
    "                                \"Has presionado el boton ACCION\")\n",
    "        \n",
    "if __name__ == \"__main__\":\n",
    "    app = QApplication(sys.argv)\n",
    "    ventana = VentanaQt()\n",
    "    ventana.show()\n",
    "    app.exec_()"
   ]
  }
 ],
 "metadata": {
  "kernelspec": {
   "display_name": "Python 3",
   "language": "python",
   "name": "python3"
  },
  "language_info": {
   "codemirror_mode": {
    "name": "ipython",
    "version": 3
   },
   "file_extension": ".py",
   "mimetype": "text/x-python",
   "name": "python",
   "nbconvert_exporter": "python",
   "pygments_lexer": "ipython3",
   "version": "3.5.2"
  }
 },
 "nbformat": 4,
 "nbformat_minor": 2
}
