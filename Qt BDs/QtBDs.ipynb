{
 "cells": [
  {
   "cell_type": "code",
   "execution_count": 5,
   "metadata": {},
   "outputs": [],
   "source": [
    "from PyQt5 import QtSql, QtGui, QtWidgets, QtCore \n",
    "import sys"
   ]
  },
  {
   "cell_type": "markdown",
   "metadata": {},
   "source": [
    "### Database creation"
   ]
  },
  {
   "cell_type": "code",
   "execution_count": 4,
   "metadata": {
    "scrolled": true
   },
   "outputs": [],
   "source": [
    "def createDB():\n",
    "   db = QtSql.QSqlDatabase.addDatabase('QSQLITE')\n",
    "   db.setDatabaseName('sports.db')\n",
    "   if not db.open():\n",
    "      QtGui.QMessageBox.critical(None, QtGui.qApp.tr(\"Cannot open database\"),\n",
    "         QtGui.qApp.tr(\"Unable to establish a database connection.\\n\"\n",
    "            \"This example needs SQLite support. Please read \"\n",
    "            \"the Qt SQL driver documentation for information \"\n",
    "            \"how to build it.\\n\\n\" \"Click Cancel to exit.\"),\n",
    "         QtGui.QMessageBox.Cancel)\n",
    "      return False\n",
    "   query = QtSql.QSqlQuery()\n",
    "   query.exec_(\"create table sportsmen(id int primary key, \"\n",
    "      \"firstname varchar(20), lastname varchar(20))\")\n",
    "   query.exec_(\"insert into sportsmen values(101, 'Roger', 'Federer')\")\n",
    "   query.exec_(\"insert into sportsmen values(102, 'Christiano', 'Ronaldo')\")\n",
    "   query.exec_(\"insert into sportsmen values(103, 'Ussain', 'Bolt')\")\n",
    "   query.exec_(\"insert into sportsmen values(104, 'Sachin', 'Tendulkar')\")\n",
    "   query.exec_(\"insert into sportsmen values(105, 'Saina', 'Nehwal')\")\n",
    "   return True\n",
    "\n",
    "if __name__ == '__main__':\n",
    "    import sys\n",
    "    app = QtWidgets.QApplication(sys.argv)\n",
    "    createDB()"
   ]
  },
  {
   "cell_type": "markdown",
   "metadata": {},
   "source": [
    "### Table Model creation"
   ]
  },
  {
   "cell_type": "code",
   "execution_count": 6,
   "metadata": {},
   "outputs": [
    {
     "name": "stdout",
     "output_type": "stream",
     "text": [
      "5\n",
      "True\n",
      "6\n",
      "True\n"
     ]
    },
    {
     "ename": "SystemExit",
     "evalue": "0",
     "output_type": "error",
     "traceback": [
      "An exception has occurred, use %tb to see the full traceback.\n",
      "\u001b[0;31mSystemExit\u001b[0m\u001b[0;31m:\u001b[0m 0\n"
     ]
    },
    {
     "name": "stderr",
     "output_type": "stream",
     "text": [
      "/usr/local/lib/python3.5/dist-packages/IPython/core/interactiveshell.py:2889: UserWarning: To exit: use 'exit', 'quit', or Ctrl-D.\n",
      "  warn(\"To exit: use 'exit', 'quit', or Ctrl-D.\", stacklevel=1)\n"
     ]
    }
   ],
   "source": [
    "\n",
    "\n",
    "def initializeModel(model):\n",
    "   model.setTable('sportsmen')\n",
    "   model.setEditStrategy(QtSql.QSqlTableModel.OnFieldChange)\n",
    "   model.select()\n",
    "   model.setHeaderData(0, QtCore.Qt.Horizontal, \"ID\")\n",
    "   model.setHeaderData(1, QtCore.Qt.Horizontal, \"First name\")\n",
    "   model.setHeaderData(2, QtCore.Qt.Horizontal, \"Last name\")\n",
    "\t\n",
    "def createView(title, model):\n",
    "   view = QtWidgets.QTableView()\n",
    "   view.setModel(model)\n",
    "   view.setWindowTitle(title)\n",
    "   return view\n",
    "\t\n",
    "def addrow():\n",
    "   print (model.rowCount())\n",
    "   ret = model.insertRows(model.rowCount(), 1)\n",
    "   print (ret)\n",
    "\t\n",
    "def findrow(i):\n",
    "   delrow = i.row()\n",
    "\t\n",
    "if __name__ == '__main__':\n",
    "\n",
    "   app = QtWidgets.QApplication(sys.argv)\n",
    "   db = QtSql.QSqlDatabase.addDatabase('QSQLITE')\n",
    "   db.setDatabaseName('sports.db')\n",
    "   model = QtSql.QSqlTableModel()\n",
    "   delrow = -1\n",
    "   initializeModel(model)\n",
    "\t\n",
    "   view1 = createView(\"Table Model (View 1)\", model)\n",
    "   view1.clicked.connect(findrow)\n",
    "\t\n",
    "   dlg = QtWidgets.QDialog()\n",
    "   layout = QtWidgets.QVBoxLayout()\n",
    "   layout.addWidget(view1)\n",
    "\t\n",
    "   button = QtWidgets.QPushButton(\"Add a row\")\n",
    "   button.clicked.connect(addrow)\n",
    "   layout.addWidget(button)\n",
    "\t\n",
    "   btn1 = QtWidgets.QPushButton(\"del a row\")\n",
    "   btn1.clicked.connect(lambda: model.removeRow(view1.currentIndex().row()))\n",
    "   layout.addWidget(btn1)\n",
    "\t\n",
    "   dlg.setLayout(layout)\n",
    "   dlg.setWindowTitle(\"Database Demo\")\n",
    "   dlg.show()\n",
    "   #sys.exit(app.exec_())"
   ]
  }
 ],
 "metadata": {
  "kernelspec": {
   "display_name": "Python 3",
   "language": "python",
   "name": "python3"
  },
  "language_info": {
   "codemirror_mode": {
    "name": "ipython",
    "version": 3
   },
   "file_extension": ".py",
   "mimetype": "text/x-python",
   "name": "python",
   "nbconvert_exporter": "python",
   "pygments_lexer": "ipython3",
   "version": "3.5.2"
  }
 },
 "nbformat": 4,
 "nbformat_minor": 2
}
